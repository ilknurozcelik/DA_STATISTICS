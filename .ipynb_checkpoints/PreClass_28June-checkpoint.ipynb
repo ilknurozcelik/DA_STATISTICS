{
 "cells": [
  {
   "cell_type": "markdown",
   "id": "a36c874f",
   "metadata": {},
   "source": [
    "## Sampling Error and Confidence Intervals"
   ]
  },
  {
   "cell_type": "markdown",
   "id": "294db146",
   "metadata": {},
   "source": [
    "### Confidence Interval for Population Mean using SciPy"
   ]
  },
  {
   "cell_type": "markdown",
   "id": "6528c21a",
   "metadata": {},
   "source": [
    "When working with large samples (n≥30), we can assume that the sampling distribution of the sample mean is approximately normally distributed (thanks to the Central Limit Theorem). In this case, we can calculate the confidence interval for the mean using the stats.norm.interval() function in Scipy."
   ]
  },
  {
   "cell_type": "code",
   "execution_count": null,
   "id": "b02c062e",
   "metadata": {},
   "outputs": [],
   "source": [
    "# Define a sample dataset (exam grades for a class of 40 students):"
   ]
  },
  {
   "cell_type": "code",
   "execution_count": 10,
   "id": "75efd405",
   "metadata": {},
   "outputs": [
    {
     "name": "stdout",
     "output_type": "stream",
     "text": [
      "[51 92 14 71 60 20 82 86 74 74 87 99 23  2 21 52  1 87 29 37  1 63 59 20\n",
      " 32 75 57 21 88 48 90 58 41 91 59 79 14 61 61 46]\n"
     ]
    }
   ],
   "source": [
    "import numpy as np\n",
    "from scipy import stats\n",
    "np.random.seed(42)\n",
    "grades = np.random.randint(100, size=40)\n",
    "print(grades)"
   ]
  },
  {
   "cell_type": "code",
   "execution_count": 11,
   "id": "a4f54889",
   "metadata": {},
   "outputs": [
    {
     "data": {
      "text/plain": [
       "53.15"
      ]
     },
     "execution_count": 11,
     "metadata": {},
     "output_type": "execute_result"
    }
   ],
   "source": [
    "# Calculate the sample mean:\n",
    "xbar= np.mean(grades)\n",
    "xbar"
   ]
  },
  {
   "cell_type": "code",
   "execution_count": 14,
   "id": "0407ed1f",
   "metadata": {},
   "outputs": [
    {
     "name": "stdout",
     "output_type": "stream",
     "text": [
      "4.427188724235731\n"
     ]
    }
   ],
   "source": [
    "# Calculate standart error of the mean:\n",
    "# SE (sample error) = population_standart_deviation / sqrt_of_sample_size\n",
    "\n",
    "n= len(grades)  # sample size\n",
    "sigma = 28  #population standart deviation (from past experience)\n",
    "\n",
    "sem = sigma/np.sqrt(n)\n",
    "\n",
    "print(sem)"
   ]
  },
  {
   "cell_type": "code",
   "execution_count": 16,
   "id": "0b8e6088",
   "metadata": {},
   "outputs": [
    {
     "data": {
      "text/plain": [
       "(44.47286954773614, 61.82713045226386)"
      ]
     },
     "execution_count": 16,
     "metadata": {},
     "output_type": "execute_result"
    }
   ],
   "source": [
    "# Calculate 95% Confidence Interval around the mean by using scipy.stats:\n",
    "# calculate confidence interval using xbar:sample mean and sem:standart error of the mean\n",
    "\n",
    "stats.norm.interval(alpha=0.95, loc=xbar, scale=sem)"
   ]
  },
  {
   "cell_type": "markdown",
   "id": "88b56ad8",
   "metadata": {},
   "source": [
    "### Population Variance Unknown (using t-score)"
   ]
  },
  {
   "cell_type": "markdown",
   "id": "ab0eff22",
   "metadata": {},
   "source": [
    "Where the population standard deviation σ is unknown, the sample standard deviation s is used. This introduces extra uncertainty, as s varies from sample to sample. So, the t distribution is used instead of the normal distribution. In this case, we can calculate the confidence interval for the mean using the stats.t.interval() function in Scipy."
   ]
  },
  {
   "cell_type": "code",
   "execution_count": null,
   "id": "f2a00d64",
   "metadata": {},
   "outputs": [],
   "source": [
    "# Define a sample dataset (exam grades for a class of 20 students):"
   ]
  },
  {
   "cell_type": "code",
   "execution_count": 19,
   "id": "75f7502e",
   "metadata": {},
   "outputs": [
    {
     "data": {
      "text/plain": [
       "array([95, 11, 81, 70, 63, 87, 75,  9, 77, 40,  4, 63, 40, 60, 92, 64,  5,\n",
       "       12, 93, 40])"
      ]
     },
     "execution_count": 19,
     "metadata": {},
     "output_type": "execute_result"
    }
   ],
   "source": [
    "np.random.seed(101)\n",
    "grades = np.random.randint(100, size=20)\n",
    "grades"
   ]
  },
  {
   "cell_type": "code",
   "execution_count": 25,
   "id": "8bc82958",
   "metadata": {},
   "outputs": [
    {
     "data": {
      "text/plain": [
       "(39.205382746648176, 68.89461725335181)"
      ]
     },
     "execution_count": 25,
     "metadata": {},
     "output_type": "execute_result"
    }
   ],
   "source": [
    "# Calculate 95% Confidence Interval around the mean by using scipy.stats:\n",
    "\n",
    "stats.t.interval(alpha=0.95,  # confidence level\n",
    "                 df=np.size(grades)-1,  # degrees of freedom\n",
    "                 loc=np.mean(grades),  # sample mean\n",
    "                 scale=stats.sem(grades)  #standart error of the mean\n",
    "                )"
   ]
  },
  {
   "cell_type": "code",
   "execution_count": 22,
   "id": "be1e2328",
   "metadata": {},
   "outputs": [
    {
     "data": {
      "text/plain": [
       "6.91284131164603"
      ]
     },
     "execution_count": 22,
     "metadata": {},
     "output_type": "execute_result"
    }
   ],
   "source": [
    "scale=np.std(grades)/np.sqrt(len(grades)) ## calculating sample error"
   ]
  },
  {
   "cell_type": "code",
   "execution_count": null,
   "id": "ca170213",
   "metadata": {},
   "outputs": [],
   "source": [
    "# Calculate the standard error of the mean\n",
    "\n",
    "# stats.sem()"
   ]
  },
  {
   "cell_type": "code",
   "execution_count": null,
   "id": "36611739",
   "metadata": {},
   "outputs": [],
   "source": []
  }
 ],
 "metadata": {
  "kernelspec": {
   "display_name": "Python 3 (ipykernel)",
   "language": "python",
   "name": "python3"
  },
  "language_info": {
   "codemirror_mode": {
    "name": "ipython",
    "version": 3
   },
   "file_extension": ".py",
   "mimetype": "text/x-python",
   "name": "python",
   "nbconvert_exporter": "python",
   "pygments_lexer": "ipython3",
   "version": "3.9.7"
  }
 },
 "nbformat": 4,
 "nbformat_minor": 5
}
