{
 "cells": [
  {
   "cell_type": "code",
   "execution_count": 1,
   "id": "6b1fc98b",
   "metadata": {},
   "outputs": [],
   "source": [
    "import numpy as np\n",
    "from scipy import stats"
   ]
  },
  {
   "cell_type": "code",
   "execution_count": 2,
   "id": "a1379b93",
   "metadata": {},
   "outputs": [
    {
     "name": "stdout",
     "output_type": "stream",
     "text": [
      "Standard Procedure: [32 37 35 28 41 44 35 31 34]\n",
      "New Procedure: [35 31 29 25 34 40 27 32 31]\n"
     ]
    }
   ],
   "source": [
    "standard = np.array([32, 37, 35, 28, 41, 44, 35, 31, 34])\n",
    "new = np.array([35, 31, 29, 25, 34, 40, 27, 32, 31])\n",
    "print(\"Standard Procedure:\", standard)\n",
    "print(\"New Procedure:\", new)"
   ]
  },
  {
   "cell_type": "code",
   "execution_count": 3,
   "id": "ef25922c",
   "metadata": {},
   "outputs": [
    {
     "data": {
      "text/plain": [
       "Ttest_indResult(statistic=1.6494846165734016, pvalue=0.11853980248116995)"
      ]
     },
     "execution_count": 3,
     "metadata": {},
     "output_type": "execute_result"
    }
   ],
   "source": [
    "stats.ttest_ind(standard, new, equal_var=True, alternative='two-sided')   #assumes equal population variances"
   ]
  },
  {
   "cell_type": "code",
   "execution_count": 4,
   "id": "7afc1160",
   "metadata": {},
   "outputs": [
    {
     "data": {
      "text/plain": [
       "Ttest_indResult(statistic=1.6494846165734016, pvalue=0.11853980248116995)"
      ]
     },
     "execution_count": 4,
     "metadata": {},
     "output_type": "execute_result"
    }
   ],
   "source": [
    "stats.ttest_ind_from_stats(mean1=np.mean(standard), \n",
    "                           std1=np.std(standard, ddof=1), \n",
    "                           nobs1=np.size(standard),\n",
    "                           mean2=np.mean(new)     , \n",
    "                           std2=np.std(new, ddof=1),      \n",
    "                           nobs2=np.size(new))"
   ]
  },
  {
   "cell_type": "code",
   "execution_count": null,
   "id": "f97184ce",
   "metadata": {},
   "outputs": [],
   "source": [
    "di : 1.5 2.3  4.7  6.1  -1.2  2.6  1.5  -0.4  -2.7  1.9  1.1  -1.5."
   ]
  },
  {
   "cell_type": "code",
   "execution_count": 5,
   "id": "74c3e68a",
   "metadata": {},
   "outputs": [],
   "source": [
    "arr = np.array([1.5, 2.3,  4.7,  6.1,  -1.2,  2.6,  1.5,  -0.4,  -2.7,  1.9,  1.1, -1.5])"
   ]
  },
  {
   "cell_type": "code",
   "execution_count": 9,
   "id": "6f44232d",
   "metadata": {},
   "outputs": [
    {
     "data": {
      "text/plain": [
       "1.3250000000000002"
      ]
     },
     "execution_count": 9,
     "metadata": {},
     "output_type": "execute_result"
    }
   ],
   "source": [
    "xbar = arr.mean()\n",
    "xbar"
   ]
  },
  {
   "cell_type": "code",
   "execution_count": 10,
   "id": "bb184152",
   "metadata": {},
   "outputs": [
    {
     "data": {
      "text/plain": [
       "2.4280050109778055"
      ]
     },
     "execution_count": 10,
     "metadata": {},
     "output_type": "execute_result"
    }
   ],
   "source": [
    "arr_std = arr.std()\n",
    "arr_std"
   ]
  },
  {
   "cell_type": "code",
   "execution_count": 15,
   "id": "850e16e3",
   "metadata": {},
   "outputs": [
    {
     "data": {
      "text/plain": [
       "0.7320710555014659"
      ]
     },
     "execution_count": 15,
     "metadata": {},
     "output_type": "execute_result"
    }
   ],
   "source": [
    "arr_se = arr_std / np.sqrt(len(arr)-1)\n",
    "arr_se"
   ]
  },
  {
   "cell_type": "code",
   "execution_count": 16,
   "id": "1e842130",
   "metadata": {},
   "outputs": [
    {
     "data": {
      "text/plain": [
       "1.8099335987165621"
      ]
     },
     "execution_count": 16,
     "metadata": {},
     "output_type": "execute_result"
    }
   ],
   "source": [
    "t= (xbar - 0) / arr_se\n",
    "t"
   ]
  },
  {
   "cell_type": "code",
   "execution_count": null,
   "id": "0e480401",
   "metadata": {},
   "outputs": [],
   "source": []
  },
  {
   "cell_type": "code",
   "execution_count": null,
   "id": "7599debd",
   "metadata": {},
   "outputs": [],
   "source": []
  },
  {
   "cell_type": "code",
   "execution_count": null,
   "id": "19ca89d2",
   "metadata": {},
   "outputs": [],
   "source": []
  }
 ],
 "metadata": {
  "kernelspec": {
   "display_name": "Python 3 (ipykernel)",
   "language": "python",
   "name": "python3"
  },
  "language_info": {
   "codemirror_mode": {
    "name": "ipython",
    "version": 3
   },
   "file_extension": ".py",
   "mimetype": "text/x-python",
   "name": "python",
   "nbconvert_exporter": "python",
   "pygments_lexer": "ipython3",
   "version": "3.9.7"
  }
 },
 "nbformat": 4,
 "nbformat_minor": 5
}
