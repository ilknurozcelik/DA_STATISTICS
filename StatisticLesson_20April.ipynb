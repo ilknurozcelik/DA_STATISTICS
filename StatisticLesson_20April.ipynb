{
 "cells": [
  {
   "cell_type": "markdown",
   "id": "2c635ad7",
   "metadata": {},
   "source": [
    "# Central Tendency"
   ]
  },
  {
   "cell_type": "code",
   "execution_count": 1,
   "id": "ddee49de",
   "metadata": {},
   "outputs": [],
   "source": [
    "import numpy as np"
   ]
  },
  {
   "cell_type": "code",
   "execution_count": 3,
   "id": "f2c1893e",
   "metadata": {},
   "outputs": [],
   "source": [
    "from scipy import stats  # İstatistiksel işlemler için scipy kütüphanesinden stats modülünü import ettik."
   ]
  },
  {
   "cell_type": "code",
   "execution_count": 4,
   "id": "ce409dd3",
   "metadata": {},
   "outputs": [],
   "source": [
    "salary = [102, 33, 26, 27, 30, 25, 33, 33, 24]"
   ]
  },
  {
   "cell_type": "code",
   "execution_count": 5,
   "id": "6127d599",
   "metadata": {},
   "outputs": [
    {
     "data": {
      "text/plain": [
       "9"
      ]
     },
     "execution_count": 5,
     "metadata": {},
     "output_type": "execute_result"
    }
   ],
   "source": [
    "len(salary)"
   ]
  },
  {
   "cell_type": "code",
   "execution_count": 9,
   "id": "e456effd",
   "metadata": {},
   "outputs": [
    {
     "name": "stdout",
     "output_type": "stream",
     "text": [
      "mean : 37.0\n"
     ]
    }
   ],
   "source": [
    "mean_salary = np.mean(salary)  # Ortalama(mean) hesabı için\n",
    "print(\"mean :\" , mean_salary)"
   ]
  },
  {
   "cell_type": "code",
   "execution_count": 10,
   "id": "e5d9e0a2",
   "metadata": {},
   "outputs": [
    {
     "name": "stdout",
     "output_type": "stream",
     "text": [
      "median : 30.0\n"
     ]
    }
   ],
   "source": [
    "median_salary = np.median(salary)  # Median hesabı için\n",
    "print(\"median :\",  median_salary)"
   ]
  },
  {
   "cell_type": "code",
   "execution_count": 12,
   "id": "ea498a51",
   "metadata": {},
   "outputs": [
    {
     "name": "stdout",
     "output_type": "stream",
     "text": [
      "mode : ModeResult(mode=array([33]), count=array([3]))\n"
     ]
    }
   ],
   "source": [
    "mode_salary = stats.mode(salary)  # Mode 'u bulmak için\n",
    "print(\"mode :\",  mode_salary)"
   ]
  },
  {
   "cell_type": "markdown",
   "id": "7f4b0006",
   "metadata": {},
   "source": [
    "# Dispersion (Min, Max, Range)"
   ]
  },
  {
   "cell_type": "code",
   "execution_count": 13,
   "id": "55907934",
   "metadata": {},
   "outputs": [],
   "source": [
    "data = [32, 36, 46, 47, 56, 69, 75, 79, 79, 88, 89, 91, 92, 93, 96, 97, 101, 105, 112, 116]"
   ]
  },
  {
   "cell_type": "code",
   "execution_count": 15,
   "id": "16f5ff47",
   "metadata": {},
   "outputs": [
    {
     "data": {
      "text/plain": [
       "32"
      ]
     },
     "execution_count": 15,
     "metadata": {},
     "output_type": "execute_result"
    }
   ],
   "source": [
    "min_data = np.min(data)  # min. değeri bulmak için\n",
    "min_data"
   ]
  },
  {
   "cell_type": "code",
   "execution_count": 16,
   "id": "7f6cb6da",
   "metadata": {},
   "outputs": [
    {
     "data": {
      "text/plain": [
       "116"
      ]
     },
     "execution_count": 16,
     "metadata": {},
     "output_type": "execute_result"
    }
   ],
   "source": [
    "max_data = np.max(data)  # max. değeri bulmak için\n",
    "max_data"
   ]
  },
  {
   "cell_type": "code",
   "execution_count": 18,
   "id": "87daee76",
   "metadata": {},
   "outputs": [
    {
     "data": {
      "text/plain": [
       "84"
      ]
     },
     "execution_count": 18,
     "metadata": {},
     "output_type": "execute_result"
    }
   ],
   "source": [
    "range_data = max_data - min_data  # range 'i bulmak için'\n",
    "range_data"
   ]
  },
  {
   "cell_type": "markdown",
   "id": "ece228e6",
   "metadata": {},
   "source": [
    "# Q1, Q2, Q3, IQR"
   ]
  },
  {
   "cell_type": "code",
   "execution_count": 24,
   "id": "0c4a09ef",
   "metadata": {},
   "outputs": [],
   "source": [
    "data2 = [32, 36, 46, 47, 56, 69, 75, 79, 80, 88, 89]"
   ]
  },
  {
   "cell_type": "code",
   "execution_count": 34,
   "id": "03e0d340",
   "metadata": {},
   "outputs": [
    {
     "name": "stdout",
     "output_type": "stream",
     "text": [
      "Q1 : 46.5\n"
     ]
    }
   ],
   "source": [
    "# first quartile : Q1\n",
    "\n",
    "Q1 = np.percentile(data2, 25)  # q1 değerini bulmak için\n",
    "print(\"Q1 :\", Q1)"
   ]
  },
  {
   "cell_type": "code",
   "execution_count": 35,
   "id": "6e76455c",
   "metadata": {},
   "outputs": [
    {
     "name": "stdout",
     "output_type": "stream",
     "text": [
      "Q2 : 69.0\n"
     ]
    }
   ],
   "source": [
    "# second quartile : Q2\n",
    "\n",
    "Q2 = np.percentile(data2, 50)  # q2 değerini bulmak için\n",
    "print(\"Q2 :\", Q2)"
   ]
  },
  {
   "cell_type": "code",
   "execution_count": 28,
   "id": "80648b67",
   "metadata": {},
   "outputs": [
    {
     "data": {
      "text/plain": [
       "69.0"
      ]
     },
     "execution_count": 28,
     "metadata": {},
     "output_type": "execute_result"
    }
   ],
   "source": [
    "np.median(data2)"
   ]
  },
  {
   "cell_type": "code",
   "execution_count": 36,
   "id": "950abce9",
   "metadata": {},
   "outputs": [
    {
     "name": "stdout",
     "output_type": "stream",
     "text": [
      "Q3 : 79.5\n"
     ]
    }
   ],
   "source": [
    "# third quartile : Q3\n",
    "\n",
    "Q3 = np.percentile(data2, 75)  # q3 değerini bulmak için\n",
    "print(\"Q3 :\", Q3)"
   ]
  },
  {
   "cell_type": "code",
   "execution_count": 37,
   "id": "5ba7d353",
   "metadata": {},
   "outputs": [
    {
     "name": "stdout",
     "output_type": "stream",
     "text": [
      "IQR : 33.0\n"
     ]
    }
   ],
   "source": [
    "# IQR = Q3 - Q1\n",
    "IQR = np.percentile(data2, 75) - np.percentile(data2, 25)  # IQR değerini bulmak için\n",
    "print(\"IQR :\", IQR)"
   ]
  },
  {
   "cell_type": "code",
   "execution_count": 38,
   "id": "2cec9c52",
   "metadata": {},
   "outputs": [
    {
     "name": "stdout",
     "output_type": "stream",
     "text": [
      "IQR : 33.0\n"
     ]
    }
   ],
   "source": [
    "# IQR = Q3 - Q1\n",
    "IQR = stats.iqr(data2)  # stats ile IQR bulmak için\n",
    "print(\"IQR :\", IQR)"
   ]
  },
  {
   "cell_type": "markdown",
   "id": "efd78abc",
   "metadata": {},
   "source": [
    "# Box-Plot"
   ]
  },
  {
   "cell_type": "code",
   "execution_count": 40,
   "id": "8e6a33b6",
   "metadata": {},
   "outputs": [
    {
     "data": {
      "text/plain": [
       "{'whiskers': [<matplotlib.lines.Line2D at 0x1632550e2e0>,\n",
       "  <matplotlib.lines.Line2D at 0x1632550e5b0>],\n",
       " 'caps': [<matplotlib.lines.Line2D at 0x1632550e940>,\n",
       "  <matplotlib.lines.Line2D at 0x1632550ecd0>],\n",
       " 'boxes': [<matplotlib.lines.Line2D at 0x16325511f70>],\n",
       " 'medians': [<matplotlib.lines.Line2D at 0x163254f90a0>],\n",
       " 'fliers': [<matplotlib.lines.Line2D at 0x163254f9430>],\n",
       " 'means': []}"
      ]
     },
     "execution_count": 40,
     "metadata": {},
     "output_type": "execute_result"
    },
    {
     "data": {
      "image/png": "[encoded data removed]",
      "text/plain": [
       "<Figure size 432x288 with 1 Axes>"
      ]
     },
     "metadata": {
      "needs_background": "light"
     },
     "output_type": "display_data"
    }
   ],
   "source": [
    "import matplotlib.pyplot as plt  # Box-plot çizdirmek için matplotlib kütüphanesinden pyplot modülünü import ettik.\n",
    "plt.boxplot(data2)"
   ]
  },
  {
   "cell_type": "code",
   "execution_count": 41,
   "id": "5fc78697",
   "metadata": {},
   "outputs": [
    {
     "data": {
      "text/plain": [
       "{'whiskers': [<matplotlib.lines.Line2D at 0x16324ff9040>,\n",
       "  <matplotlib.lines.Line2D at 0x16324ff94c0>],\n",
       " 'caps': [<matplotlib.lines.Line2D at 0x16324ff9a00>,\n",
       "  <matplotlib.lines.Line2D at 0x16324ff9e80>],\n",
       " 'boxes': [<matplotlib.lines.Line2D at 0x1632546fb50>],\n",
       " 'medians': [<matplotlib.lines.Line2D at 0x16324ff7250>],\n",
       " 'fliers': [<matplotlib.lines.Line2D at 0x16324ff76d0>],\n",
       " 'means': []}"
      ]
     },
     "execution_count": 41,
     "metadata": {},
     "output_type": "execute_result"
    },
    {
     "data": {
      "image/png": "[encoded data removed]",
      "text/plain": [
       "<Figure size 432x288 with 1 Axes>"
      ]
     },
     "metadata": {
      "needs_background": "light"
     },
     "output_type": "display_data"
    }
   ],
   "source": [
    "data3 = [32, 36, 46, 47, 56, 69, 75, 79, 79, 88, 89, 91, 92, 93, 96, 97, 101, 105, 112, 116, 145]\n",
    "plt.boxplot(data3)  # 145 değerini box-plot çiziminde outlier olarak gösterdi."
   ]
  },
  {
   "cell_type": "markdown",
   "id": "5057bc70",
   "metadata": {},
   "source": [
    "# Standart Deviation and Variance"
   ]
  },
  {
   "cell_type": "code",
   "execution_count": 42,
   "id": "b5ac2e5c",
   "metadata": {},
   "outputs": [
    {
     "data": {
      "text/plain": [
       "391.68595041322317"
      ]
     },
     "execution_count": 42,
     "metadata": {},
     "output_type": "execute_result"
    }
   ],
   "source": [
    "# To find variation\n",
    "np.var(data)"
   ]
  },
  {
   "cell_type": "code",
   "execution_count": 43,
   "id": "bfa561e9",
   "metadata": {},
   "outputs": [
    {
     "data": {
      "text/plain": [
       "19.791057334392804"
      ]
     },
     "execution_count": 43,
     "metadata": {},
     "output_type": "execute_result"
    }
   ],
   "source": [
    "# To find standart deviation\n",
    "np.std(data)"
   ]
  },
  {
   "cell_type": "code",
   "execution_count": 44,
   "id": "fcefdb20",
   "metadata": {},
   "outputs": [
    {
     "data": {
      "text/plain": [
       "19.791057334392804"
      ]
     },
     "execution_count": 44,
     "metadata": {},
     "output_type": "execute_result"
    }
   ],
   "source": [
    "# To find square root of variance\n",
    "np.sqrt(np.var(data))"
   ]
  },
  {
   "cell_type": "code",
   "execution_count": null,
   "id": "a6e259af",
   "metadata": {},
   "outputs": [],
   "source": []
  },
  {
   "cell_type": "code",
   "execution_count": null,
   "id": "d186f356",
   "metadata": {},
   "outputs": [],
   "source": []
  }
 ],
 "metadata": {
  "kernelspec": {
   "display_name": "Python 3 (ipykernel)",
   "language": "python",
   "name": "python3"
  },
  "language_info": {
   "codemirror_mode": {
    "name": "ipython",
    "version": 3
   },
   "file_extension": ".py",
   "mimetype": "text/x-python",
   "name": "python",
   "nbconvert_exporter": "python",
   "pygments_lexer": "ipython3",
   "version": "3.9.7"
  }
 },
 "nbformat": 4,
 "nbformat_minor": 5
}
